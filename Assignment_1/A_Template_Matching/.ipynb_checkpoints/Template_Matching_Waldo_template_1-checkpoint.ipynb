{
 "cells": [
  {
   "cell_type": "code",
   "execution_count": 3,
   "id": "ef872487-0d93-4af4-9c9d-6bf260f4e891",
   "metadata": {},
   "outputs": [],
   "source": [
    "#import required libraries \n",
    "import numpy as np \n",
    "import cv2\n",
    "from matplotlib import pyplot as plt"
   ]
  },
  {
   "cell_type": "code",
   "execution_count": 4,
   "id": "3d67cead-ca83-433e-9111-1c5cf1d6165c",
   "metadata": {},
   "outputs": [],
   "source": [
    "# function to display image\n",
    "def imshow(img, figsize=(6, 6)):\n",
    "    fig, ax = plt.subplots(1, 1, figsize=(figsize))\n",
    "    ax.axis('off')\n",
    "    ax.imshow(img)"
   ]
  },
  {
   "cell_type": "code",
   "execution_count": 10,
   "id": "b0ab3558-a4da-4e5c-a008-e245ffd7267f",
   "metadata": {},
   "outputs": [],
   "source": [
    "# image reading functions\n",
    "\"\"\"\n",
    "    input:  - reference_image_path\n",
    "            - template_image_path\n",
    "    output: - 2 array of images \n",
    "\"\"\"\n",
    "def read_image(reference_image_path, template_image_path): \n",
    "    image = cv2.imread(reference_image_path)\n",
    "    template = cv2.imread(template_image_path)\n",
    "    return image, template"
   ]
  },
  {
   "cell_type": "code",
   "execution_count": 6,
   "id": "110f9d5b-9af0-4369-807d-141071b36eb7",
   "metadata": {},
   "outputs": [],
   "source": [
    "# function: compute SSD for each pixel \n",
    "\"\"\"\n",
    "    input:  - window: local patch\n",
    "            - template: template image\n",
    "    output: - ssd value of pixel\n",
    "\"\"\"\n",
    "def calculate_SSD(window, template):\n",
    "    ssd = np.sum((window - template) ** 2)\n",
    "    return ssd"
   ]
  },
  {
   "cell_type": "code",
   "execution_count": 9,
   "id": "02ca356b-b4dd-4fab-b440-834edbd39704",
   "metadata": {},
   "outputs": [],
   "source": [
    "# function: compute SSD for all of pixel \n",
    "def compute_SSD(reference_image, template_image):\n",
    "    # height, width of refernce image and template_image \n",
    "    height_ref, width_ref, _ = reference_image.shape\n",
    "    height_temp, width_temp, _ = template_image.shape\n",
    "    \n",
    "    # create a matrix to storage ssd result \n",
    "    ssd_result = np.zeros((reference_image.shape[0]))\n",
    "\n",
    "    # compute SSD for each pixel \n",
    "    for i in range(height_ref - height_temp): \n",
    "        for j in range(width_ref - width_temp): \n",
    "            window = reference_image[i:i+height_temp, j:j+width_temp]\n",
    "            ssd = calculate_SSD(window, template_image)\n",
    "            ssd_result[i, j] = ssd\n",
    "    return ssd_result"
   ]
  },
  {
   "cell_type": "code",
   "execution_count": 11,
   "id": "fea78e62-947f-49e9-9a10-3a59da723719",
   "metadata": {},
   "outputs": [],
   "source": [
    "def find_location_of_waldo(matrix_result, reference_image): \n",
    "    # Find location minimum \n",
    "    min_ssd = np.min(matrix_result)\n",
    "    min_ssd_index = np.argwhere(matrix_result == min_ssd)[0]\n",
    "    \n",
    "    # Vẽ hình trên ảnh cảnh\n",
    "    cv2.rectangle(reference_image, (min_ssd_index[1], min_ssd_index[0]), (min_ssd_index[1] + w, min_ssd_index[0] + h), (0,225,255), 5)"
   ]
  },
  {
   "cell_type": "code",
   "execution_count": null,
   "id": "6dd6533f-83f3-4bda-8972-e9864b21738f",
   "metadata": {},
   "outputs": [],
   "source": [
    "def find_waldo(): \n",
    "    reference_image_path = \"../data/where_is_waldo\""
   ]
  }
 ],
 "metadata": {
  "kernelspec": {
   "display_name": "Python 3 (ipykernel)",
   "language": "python",
   "name": "python3"
  },
  "language_info": {
   "codemirror_mode": {
    "name": "ipython",
    "version": 3
   },
   "file_extension": ".py",
   "mimetype": "text/x-python",
   "name": "python",
   "nbconvert_exporter": "python",
   "pygments_lexer": "ipython3",
   "version": "3.10.5"
  }
 },
 "nbformat": 4,
 "nbformat_minor": 5
}
